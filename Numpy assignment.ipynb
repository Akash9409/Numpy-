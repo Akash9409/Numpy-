{
 "cells": [
  {
   "cell_type": "markdown",
   "id": "marked-weight",
   "metadata": {},
   "source": [
    "# Question 1"
   ]
  },
  {
   "cell_type": "code",
   "execution_count": 45,
   "id": "tribal-brisbane",
   "metadata": {},
   "outputs": [
    {
     "name": "stdout",
     "output_type": "stream",
     "text": [
      "[0. 0. 0. 0. 1. 0. 0. 0. 0. 0.]\n"
     ]
    }
   ],
   "source": [
    "import numpy as np\n",
    "arr=np.zeros(10)\n",
    "arr[4]=1\n",
    "print(arr)"
   ]
  },
  {
   "cell_type": "markdown",
   "id": "informed-programmer",
   "metadata": {},
   "source": [
    "# Question 2"
   ]
  },
  {
   "cell_type": "code",
   "execution_count": 46,
   "id": "german-recipe",
   "metadata": {},
   "outputs": [
    {
     "name": "stdout",
     "output_type": "stream",
     "text": [
      "[10 11 12 13 14 15 16 17 18 19 20 21 22 23 24 25 26 27 28 29 30 31 32 33\n",
      " 34 35 36 37 38 39 40 41 42 43 44 45 46 47 48 49]\n"
     ]
    }
   ],
   "source": [
    "arr1= np.arange(10,50)\n",
    "print(arr1)"
   ]
  },
  {
   "cell_type": "markdown",
   "id": "together-canon",
   "metadata": {},
   "source": [
    "# Question 3"
   ]
  },
  {
   "cell_type": "code",
   "execution_count": 47,
   "id": "grand-tactics",
   "metadata": {},
   "outputs": [
    {
     "name": "stdout",
     "output_type": "stream",
     "text": [
      "[[0 1 2]\n",
      " [3 4 5]\n",
      " [6 7 8]]\n"
     ]
    }
   ],
   "source": [
    "mat1=np.arange(9).reshape(3,3)\n",
    "print(mat1)"
   ]
  },
  {
   "cell_type": "markdown",
   "id": "affecting-respect",
   "metadata": {},
   "source": [
    "# Question 4"
   ]
  },
  {
   "cell_type": "code",
   "execution_count": 48,
   "id": "aware-intake",
   "metadata": {},
   "outputs": [
    {
     "name": "stdout",
     "output_type": "stream",
     "text": [
      "(array([0, 1, 4], dtype=int64),)\n"
     ]
    }
   ],
   "source": [
    "arr3=np.nonzero([1,2,0,0,4,0])\n",
    "print(arr3)"
   ]
  },
  {
   "cell_type": "markdown",
   "id": "personal-accessory",
   "metadata": {},
   "source": [
    "# Question 5"
   ]
  },
  {
   "cell_type": "code",
   "execution_count": 56,
   "id": "universal-convenience",
   "metadata": {},
   "outputs": [
    {
     "name": "stdout",
     "output_type": "stream",
     "text": [
      "minimum is 0 maximum is 5\n"
     ]
    }
   ],
   "source": [
    "arr4=np.random.randint((10,10))\n",
    "a,b=arr4.min(),arr4.max()\n",
    "print(\"minimum is\",a,\"maximum is\",b)"
   ]
  },
  {
   "cell_type": "markdown",
   "id": "economic-diving",
   "metadata": {},
   "source": [
    "# Question 6"
   ]
  },
  {
   "cell_type": "code",
   "execution_count": 62,
   "id": "differential-aquarium",
   "metadata": {},
   "outputs": [
    {
     "name": "stdout",
     "output_type": "stream",
     "text": [
      "mean is  0.49104206103576986\n"
     ]
    }
   ],
   "source": [
    "vec=np.random.random(30)\n",
    "# print(vec)\n",
    "m=vec.mean()\n",
    "print(\"mean is \",m)"
   ]
  },
  {
   "cell_type": "code",
   "execution_count": null,
   "id": "combined-wesley",
   "metadata": {},
   "outputs": [],
   "source": []
  }
 ],
 "metadata": {
  "kernelspec": {
   "display_name": "Python 3",
   "language": "python",
   "name": "python3"
  },
  "language_info": {
   "codemirror_mode": {
    "name": "ipython",
    "version": 3
   },
   "file_extension": ".py",
   "mimetype": "text/x-python",
   "name": "python",
   "nbconvert_exporter": "python",
   "pygments_lexer": "ipython3",
   "version": "3.8.6"
  }
 },
 "nbformat": 4,
 "nbformat_minor": 5
}
